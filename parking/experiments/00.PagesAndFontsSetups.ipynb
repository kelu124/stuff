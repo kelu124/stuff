{
 "cells": [
  {
   "cell_type": "code",
   "execution_count": 18,
   "metadata": {},
   "outputs": [],
   "source": [
    "from fpdf import FPDF\n",
    " \n",
    " \n",
    "# save FPDF() class into a\n",
    "# variable pdf\n",
    "pathtofont =\"../../20230325/fonts/\""
   ]
  },
  {
   "cell_type": "code",
   "execution_count": 45,
   "metadata": {},
   "outputs": [
    {
     "data": {
      "text/plain": [
       "''"
      ]
     },
     "execution_count": 45,
     "metadata": {},
     "output_type": "execute_result"
    }
   ],
   "source": [
    "pdf = FPDF()\n",
    "\n",
    "pdf.add_font('ComicZine', '', pathtofont+'comic_zine_ot.ttf', uni=True)\n",
    "pdf.add_font('TypeWriter', '', pathtofont+'XTypewriter-Regular.ttf', uni=True)\n",
    "\n",
    "# Add a page\n",
    "pdf.add_page()\n",
    " \n",
    "# set style and size of font\n",
    "# that you want in the pdf\n",
    "pdf.set_font(\"ComicZine\", size = 80)\n",
    " \n",
    "# create a cell\n",
    "pdf.cell(200, 40, txt = \"GeeksforGeeks\",\n",
    "         ln = 10, align = 'C')\n",
    "\n",
    "\n",
    "pdf.set_font(\"TypeWriter\", size = 60)\n",
    "pdf.cell(200, 30, txt = \"-\", align = 'C',ln=10)\n",
    "# add another cell\n",
    "pdf.multi_cell(180, 20, txt = \"- A Computer Science portal for geeks.\",\n",
    "         align = 'L', border=1)\n",
    "\n",
    " \n",
    "# save the pdf with name .pdf\n",
    "pdf.output(\"GFG.pdf\") \n"
   ]
  },
  {
   "cell_type": "code",
   "execution_count": 22,
   "metadata": {},
   "outputs": [
    {
     "data": {
      "text/plain": [
       "''"
      ]
     },
     "execution_count": 22,
     "metadata": {},
     "output_type": "execute_result"
    }
   ],
   "source": []
  },
  {
   "cell_type": "code",
   "execution_count": null,
   "metadata": {},
   "outputs": [],
   "source": []
  }
 ],
 "metadata": {
  "kernelspec": {
   "display_name": "Python 3",
   "language": "python",
   "name": "python3"
  },
  "language_info": {
   "codemirror_mode": {
    "name": "ipython",
    "version": 3
   },
   "file_extension": ".py",
   "mimetype": "text/x-python",
   "name": "python",
   "nbconvert_exporter": "python",
   "pygments_lexer": "ipython3",
   "version": "3.10.6"
  },
  "orig_nbformat": 4,
  "vscode": {
   "interpreter": {
    "hash": "e7370f93d1d0cde622a1f8e1c04877d8463912d04d973331ad4851f04de6915a"
   }
  }
 },
 "nbformat": 4,
 "nbformat_minor": 2
}
